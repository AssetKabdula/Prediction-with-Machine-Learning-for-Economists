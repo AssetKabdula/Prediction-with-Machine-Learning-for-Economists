{
 "cells": [
  {
   "cell_type": "markdown",
   "metadata": {},
   "source": [
    "## Importing needed libraries"
   ]
  },
  {
   "cell_type": "code",
   "execution_count": 1,
   "metadata": {},
   "outputs": [],
   "source": [
    "import numpy as np\n",
    "import pandas as pd\n",
    "import matplotlib.pyplot as plt\n",
    "import seaborn as sns\n",
    "from sklearn.model_selection import cross_val_score\n",
    "from sklearn.metrics import mean_squared_error\n",
    "from sklearn.linear_model import LinearRegression\n"
   ]
  },
  {
   "cell_type": "markdown",
   "metadata": {},
   "source": [
    "## Data downloading"
   ]
  },
  {
   "cell_type": "code",
   "execution_count": 2,
   "metadata": {},
   "outputs": [
    {
     "name": "stderr",
     "output_type": "stream",
     "text": [
      "/var/folders/rt/ht2w66yn71737qv5l2n9w4s00000gn/T/ipykernel_9783/1431743875.py:1: DtypeWarning: Columns (16) have mixed types. Specify dtype option on import or set low_memory=False.\n",
      "  data_all = pd.read_csv(\"https://osf.io/download/4ay9x/\")\n"
     ]
    }
   ],
   "source": [
    "data_all = pd.read_csv(\"https://osf.io/download/4ay9x/\")"
   ]
  },
  {
   "cell_type": "markdown",
   "metadata": {},
   "source": [
    "## Selecting occupations: Computer programmers; Software developers, applications and systems software; Web developers"
   ]
  },
  {
   "cell_type": "code",
   "execution_count": 3,
   "metadata": {},
   "outputs": [],
   "source": [
    "data = data_all[data_all['occ2012'].isin([1010, 1020, 1030])]"
   ]
  },
  {
   "cell_type": "code",
   "execution_count": 4,
   "metadata": {},
   "outputs": [
    {
     "data": {
      "text/html": [
       "<div>\n",
       "<style scoped>\n",
       "    .dataframe tbody tr th:only-of-type {\n",
       "        vertical-align: middle;\n",
       "    }\n",
       "\n",
       "    .dataframe tbody tr th {\n",
       "        vertical-align: top;\n",
       "    }\n",
       "\n",
       "    .dataframe thead th {\n",
       "        text-align: right;\n",
       "    }\n",
       "</style>\n",
       "<table border=\"1\" class=\"dataframe\">\n",
       "  <thead>\n",
       "    <tr style=\"text-align: right;\">\n",
       "      <th></th>\n",
       "      <th>Unnamed: 0</th>\n",
       "      <th>hhid</th>\n",
       "      <th>intmonth</th>\n",
       "      <th>stfips</th>\n",
       "      <th>weight</th>\n",
       "      <th>earnwke</th>\n",
       "      <th>uhours</th>\n",
       "      <th>grade92</th>\n",
       "      <th>race</th>\n",
       "      <th>ethnic</th>\n",
       "      <th>...</th>\n",
       "      <th>ownchild</th>\n",
       "      <th>chldpres</th>\n",
       "      <th>prcitshp</th>\n",
       "      <th>state</th>\n",
       "      <th>ind02</th>\n",
       "      <th>occ2012</th>\n",
       "      <th>class</th>\n",
       "      <th>unionmme</th>\n",
       "      <th>unioncov</th>\n",
       "      <th>lfsr94</th>\n",
       "    </tr>\n",
       "  </thead>\n",
       "  <tbody>\n",
       "    <tr>\n",
       "      <th>155</th>\n",
       "      <td>346</td>\n",
       "      <td>673032906039520</td>\n",
       "      <td>January</td>\n",
       "      <td>AK</td>\n",
       "      <td>411.5571</td>\n",
       "      <td>1346.15</td>\n",
       "      <td>40</td>\n",
       "      <td>39</td>\n",
       "      <td>3</td>\n",
       "      <td>NaN</td>\n",
       "      <td>...</td>\n",
       "      <td>0</td>\n",
       "      <td>0</td>\n",
       "      <td>Native, Born In US</td>\n",
       "      <td>94</td>\n",
       "      <td>Executive offices and legislative bodies (9211...</td>\n",
       "      <td>1030</td>\n",
       "      <td>Government - Local</td>\n",
       "      <td>No</td>\n",
       "      <td>No</td>\n",
       "      <td>Employed-At Work</td>\n",
       "    </tr>\n",
       "    <tr>\n",
       "      <th>293</th>\n",
       "      <td>651</td>\n",
       "      <td>207004430306994</td>\n",
       "      <td>January</td>\n",
       "      <td>AZ</td>\n",
       "      <td>3410.8853</td>\n",
       "      <td>2500.00</td>\n",
       "      <td>40</td>\n",
       "      <td>44</td>\n",
       "      <td>4</td>\n",
       "      <td>NaN</td>\n",
       "      <td>...</td>\n",
       "      <td>0</td>\n",
       "      <td>0</td>\n",
       "      <td>Foreign Born, US Cit By Naturalization</td>\n",
       "      <td>86</td>\n",
       "      <td>Computer systems design and related services (...</td>\n",
       "      <td>1020</td>\n",
       "      <td>Private, For Profit</td>\n",
       "      <td>No</td>\n",
       "      <td>No</td>\n",
       "      <td>Employed-At Work</td>\n",
       "    </tr>\n",
       "    <tr>\n",
       "      <th>296</th>\n",
       "      <td>657</td>\n",
       "      <td>236096309400800</td>\n",
       "      <td>January</td>\n",
       "      <td>AZ</td>\n",
       "      <td>3916.3279</td>\n",
       "      <td>2500.00</td>\n",
       "      <td>40</td>\n",
       "      <td>43</td>\n",
       "      <td>4</td>\n",
       "      <td>NaN</td>\n",
       "      <td>...</td>\n",
       "      <td>2</td>\n",
       "      <td>10</td>\n",
       "      <td>Foreign Born, US Cit By Naturalization</td>\n",
       "      <td>86</td>\n",
       "      <td>Business support services (5614)</td>\n",
       "      <td>1020</td>\n",
       "      <td>Private, For Profit</td>\n",
       "      <td>No</td>\n",
       "      <td>No</td>\n",
       "      <td>Employed-At Work</td>\n",
       "    </tr>\n",
       "    <tr>\n",
       "      <th>324</th>\n",
       "      <td>724</td>\n",
       "      <td>914299270769003</td>\n",
       "      <td>January</td>\n",
       "      <td>AZ</td>\n",
       "      <td>5115.4707</td>\n",
       "      <td>1250.00</td>\n",
       "      <td>45</td>\n",
       "      <td>43</td>\n",
       "      <td>1</td>\n",
       "      <td>NaN</td>\n",
       "      <td>...</td>\n",
       "      <td>0</td>\n",
       "      <td>0</td>\n",
       "      <td>Native, Born In US</td>\n",
       "      <td>86</td>\n",
       "      <td>Computer systems design and related services (...</td>\n",
       "      <td>1020</td>\n",
       "      <td>Private, For Profit</td>\n",
       "      <td>No</td>\n",
       "      <td>No</td>\n",
       "      <td>Employed-At Work</td>\n",
       "    </tr>\n",
       "    <tr>\n",
       "      <th>404</th>\n",
       "      <td>913</td>\n",
       "      <td>138098329500878</td>\n",
       "      <td>January</td>\n",
       "      <td>AR</td>\n",
       "      <td>1786.4459</td>\n",
       "      <td>700.00</td>\n",
       "      <td>40</td>\n",
       "      <td>43</td>\n",
       "      <td>1</td>\n",
       "      <td>NaN</td>\n",
       "      <td>...</td>\n",
       "      <td>0</td>\n",
       "      <td>0</td>\n",
       "      <td>Native, Born In US</td>\n",
       "      <td>71</td>\n",
       "      <td>Offices of physicians (6211)</td>\n",
       "      <td>1030</td>\n",
       "      <td>Government - State</td>\n",
       "      <td>No</td>\n",
       "      <td>No</td>\n",
       "      <td>Employed-At Work</td>\n",
       "    </tr>\n",
       "  </tbody>\n",
       "</table>\n",
       "<p>5 rows × 23 columns</p>\n",
       "</div>"
      ],
      "text/plain": [
       "     Unnamed: 0             hhid intmonth stfips     weight  earnwke  uhours  \\\n",
       "155         346  673032906039520  January     AK   411.5571  1346.15      40   \n",
       "293         651  207004430306994  January     AZ  3410.8853  2500.00      40   \n",
       "296         657  236096309400800  January     AZ  3916.3279  2500.00      40   \n",
       "324         724  914299270769003  January     AZ  5115.4707  1250.00      45   \n",
       "404         913  138098329500878  January     AR  1786.4459   700.00      40   \n",
       "\n",
       "     grade92  race  ethnic  ...  ownchild  chldpres  \\\n",
       "155       39     3     NaN  ...         0         0   \n",
       "293       44     4     NaN  ...         0         0   \n",
       "296       43     4     NaN  ...         2        10   \n",
       "324       43     1     NaN  ...         0         0   \n",
       "404       43     1     NaN  ...         0         0   \n",
       "\n",
       "                                   prcitshp  state  \\\n",
       "155                      Native, Born In US     94   \n",
       "293  Foreign Born, US Cit By Naturalization     86   \n",
       "296  Foreign Born, US Cit By Naturalization     86   \n",
       "324                      Native, Born In US     86   \n",
       "404                      Native, Born In US     71   \n",
       "\n",
       "                                                 ind02 occ2012  \\\n",
       "155  Executive offices and legislative bodies (9211...    1030   \n",
       "293  Computer systems design and related services (...    1020   \n",
       "296                   Business support services (5614)    1020   \n",
       "324  Computer systems design and related services (...    1020   \n",
       "404                       Offices of physicians (6211)    1030   \n",
       "\n",
       "                   class unionmme  unioncov            lfsr94  \n",
       "155   Government - Local       No        No  Employed-At Work  \n",
       "293  Private, For Profit       No        No  Employed-At Work  \n",
       "296  Private, For Profit       No        No  Employed-At Work  \n",
       "324  Private, For Profit       No        No  Employed-At Work  \n",
       "404   Government - State       No        No  Employed-At Work  \n",
       "\n",
       "[5 rows x 23 columns]"
      ]
     },
     "execution_count": 4,
     "metadata": {},
     "output_type": "execute_result"
    }
   ],
   "source": [
    "data.head()"
   ]
  },
  {
   "cell_type": "code",
   "execution_count": 5,
   "metadata": {},
   "outputs": [
    {
     "name": "stdout",
     "output_type": "stream",
     "text": [
      "<class 'pandas.core.frame.DataFrame'>\n",
      "Index: 2067 entries, 155 to 149221\n",
      "Data columns (total 23 columns):\n",
      " #   Column      Non-Null Count  Dtype  \n",
      "---  ------      --------------  -----  \n",
      " 0   Unnamed: 0  2067 non-null   int64  \n",
      " 1   hhid        2067 non-null   int64  \n",
      " 2   intmonth    2067 non-null   object \n",
      " 3   stfips      2067 non-null   object \n",
      " 4   weight      2067 non-null   float64\n",
      " 5   earnwke     2067 non-null   float64\n",
      " 6   uhours      2067 non-null   int64  \n",
      " 7   grade92     2067 non-null   int64  \n",
      " 8   race        2067 non-null   int64  \n",
      " 9   ethnic      90 non-null     float64\n",
      " 10  age         2067 non-null   int64  \n",
      " 11  sex         2067 non-null   int64  \n",
      " 12  marital     2067 non-null   int64  \n",
      " 13  ownchild    2067 non-null   int64  \n",
      " 14  chldpres    2067 non-null   int64  \n",
      " 15  prcitshp    2067 non-null   object \n",
      " 16  state       2067 non-null   object \n",
      " 17  ind02       2067 non-null   object \n",
      " 18  occ2012     2067 non-null   int64  \n",
      " 19  class       2067 non-null   object \n",
      " 20  unionmme    2067 non-null   object \n",
      " 21  unioncov    2012 non-null   object \n",
      " 22  lfsr94      2067 non-null   object \n",
      "dtypes: float64(3), int64(11), object(9)\n",
      "memory usage: 387.6+ KB\n"
     ]
    }
   ],
   "source": [
    "data.info()"
   ]
  },
  {
   "cell_type": "markdown",
   "metadata": {},
   "source": [
    "### Ethnic variable has only 90 non-null values, and unioncov 2012 out of 2067. All other variables do not have missing values"
   ]
  },
  {
   "cell_type": "code",
   "execution_count": 6,
   "metadata": {},
   "outputs": [
    {
     "data": {
      "text/plain": [
       "grade92\n",
       "43    1098\n",
       "44     505\n",
       "40     184\n",
       "42      98\n",
       "39      71\n",
       "41      60\n",
       "46      37\n",
       "45       9\n",
       "37       2\n",
       "38       2\n",
       "36       1\n",
       "Name: count, dtype: int64"
      ]
     },
     "execution_count": 6,
     "metadata": {},
     "output_type": "execute_result"
    }
   ],
   "source": [
    "data['grade92'].value_counts()"
   ]
  },
  {
   "cell_type": "code",
   "execution_count": 7,
   "metadata": {},
   "outputs": [
    {
     "data": {
      "text/plain": [
       "class\n",
       "Private, For Profit     1796\n",
       "Private, Nonprofit        92\n",
       "Government - Federal      81\n",
       "Government - State        74\n",
       "Government - Local        24\n",
       "Name: count, dtype: int64"
      ]
     },
     "execution_count": 7,
     "metadata": {},
     "output_type": "execute_result"
    }
   ],
   "source": [
    "data['class'].value_counts()"
   ]
  },
  {
   "cell_type": "markdown",
   "metadata": {},
   "source": [
    "## Creating variables"
   ]
  },
  {
   "cell_type": "code",
   "execution_count": 8,
   "metadata": {},
   "outputs": [
    {
     "name": "stderr",
     "output_type": "stream",
     "text": [
      "/var/folders/rt/ht2w66yn71737qv5l2n9w4s00000gn/T/ipykernel_9783/1764766157.py:2: SettingWithCopyWarning: \n",
      "A value is trying to be set on a copy of a slice from a DataFrame.\n",
      "Try using .loc[row_indexer,col_indexer] = value instead\n",
      "\n",
      "See the caveats in the documentation: https://pandas.pydata.org/pandas-docs/stable/user_guide/indexing.html#returning-a-view-versus-a-copy\n",
      "  data[\"female\"] = (data[\"sex\"] == 2)\n",
      "/var/folders/rt/ht2w66yn71737qv5l2n9w4s00000gn/T/ipykernel_9783/1764766157.py:3: SettingWithCopyWarning: \n",
      "A value is trying to be set on a copy of a slice from a DataFrame.\n",
      "Try using .loc[row_indexer,col_indexer] = value instead\n",
      "\n",
      "See the caveats in the documentation: https://pandas.pydata.org/pandas-docs/stable/user_guide/indexing.html#returning-a-view-versus-a-copy\n",
      "  data[\"w\"] = data[\"earnwke\"] / data[\"uhours\"]\n",
      "/var/folders/rt/ht2w66yn71737qv5l2n9w4s00000gn/T/ipykernel_9783/1764766157.py:4: SettingWithCopyWarning: \n",
      "A value is trying to be set on a copy of a slice from a DataFrame.\n",
      "Try using .loc[row_indexer,col_indexer] = value instead\n",
      "\n",
      "See the caveats in the documentation: https://pandas.pydata.org/pandas-docs/stable/user_guide/indexing.html#returning-a-view-versus-a-copy\n",
      "  data[\"lnw\"] = np.log(data[\"w\"])\n",
      "/var/folders/rt/ht2w66yn71737qv5l2n9w4s00000gn/T/ipykernel_9783/1764766157.py:5: SettingWithCopyWarning: \n",
      "A value is trying to be set on a copy of a slice from a DataFrame.\n",
      "Try using .loc[row_indexer,col_indexer] = value instead\n",
      "\n",
      "See the caveats in the documentation: https://pandas.pydata.org/pandas-docs/stable/user_guide/indexing.html#returning-a-view-versus-a-copy\n",
      "  data[\"agesq\"] = np.power(data[\"age\"], 2)\n",
      "/var/folders/rt/ht2w66yn71737qv5l2n9w4s00000gn/T/ipykernel_9783/1764766157.py:8: SettingWithCopyWarning: \n",
      "A value is trying to be set on a copy of a slice from a DataFrame.\n",
      "Try using .loc[row_indexer,col_indexer] = value instead\n",
      "\n",
      "See the caveats in the documentation: https://pandas.pydata.org/pandas-docs/stable/user_guide/indexing.html#returning-a-view-versus-a-copy\n",
      "  data[\"ed_MA\"] = (data[\"grade92\"] == 44).astype(int)\n",
      "/var/folders/rt/ht2w66yn71737qv5l2n9w4s00000gn/T/ipykernel_9783/1764766157.py:9: SettingWithCopyWarning: \n",
      "A value is trying to be set on a copy of a slice from a DataFrame.\n",
      "Try using .loc[row_indexer,col_indexer] = value instead\n",
      "\n",
      "See the caveats in the documentation: https://pandas.pydata.org/pandas-docs/stable/user_guide/indexing.html#returning-a-view-versus-a-copy\n",
      "  data[\"ed_Profess\"] = (data[\"grade92\"] == 45).astype(int)\n",
      "/var/folders/rt/ht2w66yn71737qv5l2n9w4s00000gn/T/ipykernel_9783/1764766157.py:10: SettingWithCopyWarning: \n",
      "A value is trying to be set on a copy of a slice from a DataFrame.\n",
      "Try using .loc[row_indexer,col_indexer] = value instead\n",
      "\n",
      "See the caveats in the documentation: https://pandas.pydata.org/pandas-docs/stable/user_guide/indexing.html#returning-a-view-versus-a-copy\n",
      "  data[\"ed_Phd\"] = (data[\"grade92\"] == 46).astype(int)\n",
      "/var/folders/rt/ht2w66yn71737qv5l2n9w4s00000gn/T/ipykernel_9783/1764766157.py:13: SettingWithCopyWarning: \n",
      "A value is trying to be set on a copy of a slice from a DataFrame.\n",
      "Try using .loc[row_indexer,col_indexer] = value instead\n",
      "\n",
      "See the caveats in the documentation: https://pandas.pydata.org/pandas-docs/stable/user_guide/indexing.html#returning-a-view-versus-a-copy\n",
      "  data[\"female_ed_MA\"] = data[\"female\"] * data[\"ed_MA\"]\n",
      "/var/folders/rt/ht2w66yn71737qv5l2n9w4s00000gn/T/ipykernel_9783/1764766157.py:14: SettingWithCopyWarning: \n",
      "A value is trying to be set on a copy of a slice from a DataFrame.\n",
      "Try using .loc[row_indexer,col_indexer] = value instead\n",
      "\n",
      "See the caveats in the documentation: https://pandas.pydata.org/pandas-docs/stable/user_guide/indexing.html#returning-a-view-versus-a-copy\n",
      "  data[\"female_ed_Phd\"] = data[\"female\"] * data[\"ed_Phd\"]\n",
      "/var/folders/rt/ht2w66yn71737qv5l2n9w4s00000gn/T/ipykernel_9783/1764766157.py:17: SettingWithCopyWarning: \n",
      "A value is trying to be set on a copy of a slice from a DataFrame.\n",
      "Try using .loc[row_indexer,col_indexer] = value instead\n",
      "\n",
      "See the caveats in the documentation: https://pandas.pydata.org/pandas-docs/stable/user_guide/indexing.html#returning-a-view-versus-a-copy\n",
      "  data[\"priv\"] = data[\"class\"].isin(['Private, For Profit', 'Private, Nonprofit']).astype(int)\n",
      "/var/folders/rt/ht2w66yn71737qv5l2n9w4s00000gn/T/ipykernel_9783/1764766157.py:19: SettingWithCopyWarning: \n",
      "A value is trying to be set on a copy of a slice from a DataFrame.\n",
      "Try using .loc[row_indexer,col_indexer] = value instead\n",
      "\n",
      "See the caveats in the documentation: https://pandas.pydata.org/pandas-docs/stable/user_guide/indexing.html#returning-a-view-versus-a-copy\n",
      "  data[\"gover\"] = data[\"class\"].isin(['Government - Federal', 'Government - State', 'Government - Local']).astype(int)\n"
     ]
    }
   ],
   "source": [
    "# Creating basic variables such as gender, age, and log of the dependent variable\n",
    "data[\"female\"] = (data[\"sex\"] == 2)\n",
    "data[\"w\"] = data[\"earnwke\"] / data[\"uhours\"]\n",
    "data[\"lnw\"] = np.log(data[\"w\"])\n",
    "data[\"agesq\"] = np.power(data[\"age\"], 2)\n",
    "\n",
    "# Creating education variables\n",
    "data[\"ed_MA\"] = (data[\"grade92\"] == 44).astype(int)\n",
    "data[\"ed_Phd\"] = (data[\"grade92\"] == 46).astype(int)\n",
    "\n",
    "# Creating interaction terms between gender and education levels\n",
    "data[\"female_ed_MA\"] = data[\"female\"] * data[\"ed_MA\"]\n",
    "data[\"female_ed_Phd\"] = data[\"female\"] * data[\"ed_Phd\"]\n",
    "\n",
    "# Creating the 'priv' column for private classes\n",
    "data[\"priv\"] = data[\"class\"].isin(['Private, For Profit', 'Private, Nonprofit']).astype(int)\n",
    "# Creating the 'gover' column for government classes\n",
    "data[\"gover\"] = data[\"class\"].isin(['Government - Federal', 'Government - State', 'Government - Local']).astype(int)"
   ]
  },
  {
   "cell_type": "markdown",
   "metadata": {},
   "source": [
    "## Distribution of earnings"
   ]
  },
  {
   "cell_type": "code",
   "execution_count": 9,
   "metadata": {},
   "outputs": [
    {
     "data": {
      "text/html": [
       "<div>\n",
       "<style scoped>\n",
       "    .dataframe tbody tr th:only-of-type {\n",
       "        vertical-align: middle;\n",
       "    }\n",
       "\n",
       "    .dataframe tbody tr th {\n",
       "        vertical-align: top;\n",
       "    }\n",
       "\n",
       "    .dataframe thead th {\n",
       "        text-align: right;\n",
       "    }\n",
       "</style>\n",
       "<table border=\"1\" class=\"dataframe\">\n",
       "  <thead>\n",
       "    <tr style=\"text-align: right;\">\n",
       "      <th></th>\n",
       "      <th>earnwke</th>\n",
       "      <th>uhours</th>\n",
       "      <th>w</th>\n",
       "    </tr>\n",
       "  </thead>\n",
       "  <tbody>\n",
       "    <tr>\n",
       "      <th>count</th>\n",
       "      <td>2067.000000</td>\n",
       "      <td>2067.000000</td>\n",
       "      <td>2067.000000</td>\n",
       "    </tr>\n",
       "    <tr>\n",
       "      <th>mean</th>\n",
       "      <td>1554.762545</td>\n",
       "      <td>41.374940</td>\n",
       "      <td>37.508938</td>\n",
       "    </tr>\n",
       "    <tr>\n",
       "      <th>std</th>\n",
       "      <td>679.648500</td>\n",
       "      <td>6.525637</td>\n",
       "      <td>15.908843</td>\n",
       "    </tr>\n",
       "    <tr>\n",
       "      <th>min</th>\n",
       "      <td>2.000000</td>\n",
       "      <td>4.000000</td>\n",
       "      <td>0.050000</td>\n",
       "    </tr>\n",
       "    <tr>\n",
       "      <th>25%</th>\n",
       "      <td>1040.000000</td>\n",
       "      <td>40.000000</td>\n",
       "      <td>25.000000</td>\n",
       "    </tr>\n",
       "    <tr>\n",
       "      <th>50%</th>\n",
       "      <td>1500.000000</td>\n",
       "      <td>40.000000</td>\n",
       "      <td>36.050000</td>\n",
       "    </tr>\n",
       "    <tr>\n",
       "      <th>75%</th>\n",
       "      <td>2000.000000</td>\n",
       "      <td>40.000000</td>\n",
       "      <td>48.076750</td>\n",
       "    </tr>\n",
       "    <tr>\n",
       "      <th>max</th>\n",
       "      <td>2884.610000</td>\n",
       "      <td>80.000000</td>\n",
       "      <td>120.192083</td>\n",
       "    </tr>\n",
       "  </tbody>\n",
       "</table>\n",
       "</div>"
      ],
      "text/plain": [
       "           earnwke       uhours            w\n",
       "count  2067.000000  2067.000000  2067.000000\n",
       "mean   1554.762545    41.374940    37.508938\n",
       "std     679.648500     6.525637    15.908843\n",
       "min       2.000000     4.000000     0.050000\n",
       "25%    1040.000000    40.000000    25.000000\n",
       "50%    1500.000000    40.000000    36.050000\n",
       "75%    2000.000000    40.000000    48.076750\n",
       "max    2884.610000    80.000000   120.192083"
      ]
     },
     "execution_count": 9,
     "metadata": {},
     "output_type": "execute_result"
    }
   ],
   "source": [
    "data.loc[:, [\"earnwke\", \"uhours\", \"w\"]].describe()"
   ]
  },
  {
   "cell_type": "code",
   "execution_count": 10,
   "metadata": {},
   "outputs": [
    {
     "data": {
      "text/html": [
       "<div>\n",
       "<style scoped>\n",
       "    .dataframe tbody tr th:only-of-type {\n",
       "        vertical-align: middle;\n",
       "    }\n",
       "\n",
       "    .dataframe tbody tr th {\n",
       "        vertical-align: top;\n",
       "    }\n",
       "\n",
       "    .dataframe thead th {\n",
       "        text-align: right;\n",
       "    }\n",
       "</style>\n",
       "<table border=\"1\" class=\"dataframe\">\n",
       "  <thead>\n",
       "    <tr style=\"text-align: right;\">\n",
       "      <th></th>\n",
       "      <th>earnwke</th>\n",
       "      <th>uhours</th>\n",
       "      <th>w</th>\n",
       "    </tr>\n",
       "  </thead>\n",
       "  <tbody>\n",
       "    <tr>\n",
       "      <th>count</th>\n",
       "      <td>2066.000000</td>\n",
       "      <td>2066.000000</td>\n",
       "      <td>2066.000000</td>\n",
       "    </tr>\n",
       "    <tr>\n",
       "      <th>mean</th>\n",
       "      <td>1555.514124</td>\n",
       "      <td>41.375605</td>\n",
       "      <td>37.527069</td>\n",
       "    </tr>\n",
       "    <tr>\n",
       "      <th>std</th>\n",
       "      <td>678.953328</td>\n",
       "      <td>6.527147</td>\n",
       "      <td>15.891319</td>\n",
       "    </tr>\n",
       "    <tr>\n",
       "      <th>min</th>\n",
       "      <td>37.000000</td>\n",
       "      <td>4.000000</td>\n",
       "      <td>2.307500</td>\n",
       "    </tr>\n",
       "    <tr>\n",
       "      <th>25%</th>\n",
       "      <td>1042.017500</td>\n",
       "      <td>40.000000</td>\n",
       "      <td>25.000000</td>\n",
       "    </tr>\n",
       "    <tr>\n",
       "      <th>50%</th>\n",
       "      <td>1500.000000</td>\n",
       "      <td>40.000000</td>\n",
       "      <td>36.050000</td>\n",
       "    </tr>\n",
       "    <tr>\n",
       "      <th>75%</th>\n",
       "      <td>2000.000000</td>\n",
       "      <td>40.000000</td>\n",
       "      <td>48.076750</td>\n",
       "    </tr>\n",
       "    <tr>\n",
       "      <th>max</th>\n",
       "      <td>2884.610000</td>\n",
       "      <td>80.000000</td>\n",
       "      <td>120.192083</td>\n",
       "    </tr>\n",
       "  </tbody>\n",
       "</table>\n",
       "</div>"
      ],
      "text/plain": [
       "           earnwke       uhours            w\n",
       "count  2066.000000  2066.000000  2066.000000\n",
       "mean   1555.514124    41.375605    37.527069\n",
       "std     678.953328     6.527147    15.891319\n",
       "min      37.000000     4.000000     2.307500\n",
       "25%    1042.017500    40.000000    25.000000\n",
       "50%    1500.000000    40.000000    36.050000\n",
       "75%    2000.000000    40.000000    48.076750\n",
       "max    2884.610000    80.000000   120.192083"
      ]
     },
     "execution_count": 10,
     "metadata": {},
     "output_type": "execute_result"
    }
   ],
   "source": [
    "data.loc[data[\"w\"] >= 1, [\"earnwke\", \"uhours\", \"w\"]].describe()"
   ]
  },
  {
   "cell_type": "code",
   "execution_count": 11,
   "metadata": {},
   "outputs": [
    {
     "data": {
      "text/plain": [
       "female\n",
       "False    1578\n",
       "True      489\n",
       "Name: count, dtype: int64"
      ]
     },
     "execution_count": 11,
     "metadata": {},
     "output_type": "execute_result"
    }
   ],
   "source": [
    "data[\"female\"].value_counts()"
   ]
  },
  {
   "cell_type": "code",
   "execution_count": 12,
   "metadata": {},
   "outputs": [
    {
     "data": {
      "text/plain": [
       "occ2012  female\n",
       "1010     False      409\n",
       "         True       107\n",
       "1020     False     1044\n",
       "         True       291\n",
       "1030     False      125\n",
       "         True        91\n",
       "dtype: int64"
      ]
     },
     "execution_count": 12,
     "metadata": {},
     "output_type": "execute_result"
    }
   ],
   "source": [
    "data.groupby([\"occ2012\", \"female\"]).size()"
   ]
  },
  {
   "cell_type": "markdown",
   "metadata": {},
   "source": [
    "### We see that the majority of samples is male "
   ]
  }
 ],
 "metadata": {
  "kernelspec": {
   "display_name": "ml",
   "language": "python",
   "name": "python3"
  },
  "language_info": {
   "codemirror_mode": {
    "name": "ipython",
    "version": 3
   },
   "file_extension": ".py",
   "mimetype": "text/x-python",
   "name": "python",
   "nbconvert_exporter": "python",
   "pygments_lexer": "ipython3",
   "version": "3.10.14"
  }
 },
 "nbformat": 4,
 "nbformat_minor": 2
}
