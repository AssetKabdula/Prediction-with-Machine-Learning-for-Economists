{
 "cells": [
  {
   "cell_type": "code",
   "execution_count": 34,
   "metadata": {},
   "outputs": [],
   "source": [
    "import pandas as pd\n",
    "import numpy as np\n",
    "import time\n",
    "import matplotlib.pyplot as plt\n",
    "import seaborn as sns\n",
    "from sklearn.model_selection import train_test_split, cross_val_score\n",
    "from sklearn.linear_model import LinearRegression, LassoCV\n",
    "from sklearn.ensemble import RandomForestRegressor, GradientBoostingRegressor\n",
    "from xgboost import XGBRegressor\n",
    "from sklearn.metrics import mean_squared_error, r2_score\n",
    "from sklearn.impute import SimpleImputer"
   ]
  },
  {
   "cell_type": "markdown",
   "metadata": {},
   "source": [
    "# Part I. Modelling\n",
    "## Loading and Preparing Data"
   ]
  },
  {
   "cell_type": "code",
   "execution_count": 37,
   "metadata": {},
   "outputs": [],
   "source": [
    "# Load data\n",
    "df = pd.read_csv(\"../data/athens_q3.csv\")"
   ]
  },
  {
   "cell_type": "code",
   "execution_count": 38,
   "metadata": {},
   "outputs": [],
   "source": [
    "# Missing values calculation\n",
    "def count_missing_values(df):\n",
    "    return df.isna().sum()[df.isna().sum() > 0]"
   ]
  },
  {
   "cell_type": "code",
   "execution_count": 39,
   "metadata": {},
   "outputs": [
    {
     "data": {
      "text/plain": [
       "description                       303\n",
       "neighborhood_overview            6379\n",
       "host_location                    4252\n",
       "host_about                       7003\n",
       "host_response_time               1461\n",
       "host_response_rate               1461\n",
       "host_acceptance_rate              711\n",
       "host_is_superhost                 925\n",
       "host_neighbourhood               8256\n",
       "neighbourhood                    6379\n",
       "neighbourhood_group_cleansed    14137\n",
       "bathrooms                         440\n",
       "bathrooms_text                     19\n",
       "bedrooms                           61\n",
       "beds                              456\n",
       "price                             427\n",
       "calendar_updated                14137\n",
       "has_availability                   55\n",
       "first_review                     1858\n",
       "last_review                      1858\n",
       "review_scores_rating             1858\n",
       "review_scores_accuracy           1858\n",
       "review_scores_cleanliness        1858\n",
       "review_scores_checkin            1858\n",
       "review_scores_communication      1858\n",
       "review_scores_location           1858\n",
       "review_scores_value              1858\n",
       "license                           202\n",
       "reviews_per_month                1858\n",
       "dtype: int64"
      ]
     },
     "execution_count": 39,
     "metadata": {},
     "output_type": "execute_result"
    }
   ],
   "source": [
    "count_missing_values(df)"
   ]
  },
  {
   "cell_type": "code",
   "execution_count": 40,
   "metadata": {},
   "outputs": [],
   "source": [
    "# We focus on normal apartments, n<8\n",
    "df = df.loc[lambda x: x[\"accommodates\"] < 8]"
   ]
  },
  {
   "cell_type": "code",
   "execution_count": 41,
   "metadata": {},
   "outputs": [
    {
     "data": {
      "text/html": [
       "<div>\n",
       "<style scoped>\n",
       "    .dataframe tbody tr th:only-of-type {\n",
       "        vertical-align: middle;\n",
       "    }\n",
       "\n",
       "    .dataframe tbody tr th {\n",
       "        vertical-align: top;\n",
       "    }\n",
       "\n",
       "    .dataframe thead th {\n",
       "        text-align: right;\n",
       "    }\n",
       "</style>\n",
       "<table border=\"1\" class=\"dataframe\">\n",
       "  <thead>\n",
       "    <tr style=\"text-align: right;\">\n",
       "      <th></th>\n",
       "      <th>id</th>\n",
       "      <th>scrape_id</th>\n",
       "      <th>host_id</th>\n",
       "      <th>host_listings_count</th>\n",
       "      <th>host_total_listings_count</th>\n",
       "      <th>neighbourhood_group_cleansed</th>\n",
       "      <th>latitude</th>\n",
       "      <th>longitude</th>\n",
       "      <th>accommodates</th>\n",
       "      <th>bathrooms</th>\n",
       "      <th>...</th>\n",
       "      <th>review_scores_cleanliness</th>\n",
       "      <th>review_scores_checkin</th>\n",
       "      <th>review_scores_communication</th>\n",
       "      <th>review_scores_location</th>\n",
       "      <th>review_scores_value</th>\n",
       "      <th>calculated_host_listings_count</th>\n",
       "      <th>calculated_host_listings_count_entire_homes</th>\n",
       "      <th>calculated_host_listings_count_private_rooms</th>\n",
       "      <th>calculated_host_listings_count_shared_rooms</th>\n",
       "      <th>reviews_per_month</th>\n",
       "    </tr>\n",
       "  </thead>\n",
       "  <tbody>\n",
       "    <tr>\n",
       "      <th>count</th>\n",
       "      <td>1.359900e+04</td>\n",
       "      <td>1.359900e+04</td>\n",
       "      <td>1.359900e+04</td>\n",
       "      <td>13599.000000</td>\n",
       "      <td>13599.000000</td>\n",
       "      <td>0.0</td>\n",
       "      <td>13599.000000</td>\n",
       "      <td>13599.000000</td>\n",
       "      <td>13599.000000</td>\n",
       "      <td>13174.000000</td>\n",
       "      <td>...</td>\n",
       "      <td>11795.000000</td>\n",
       "      <td>11795.000000</td>\n",
       "      <td>11795.000000</td>\n",
       "      <td>11795.000000</td>\n",
       "      <td>11795.000000</td>\n",
       "      <td>13599.000000</td>\n",
       "      <td>13599.000000</td>\n",
       "      <td>13599.000000</td>\n",
       "      <td>13599.000000</td>\n",
       "      <td>11795.000000</td>\n",
       "    </tr>\n",
       "    <tr>\n",
       "      <th>mean</th>\n",
       "      <td>5.947929e+17</td>\n",
       "      <td>2.024092e+13</td>\n",
       "      <td>2.528435e+08</td>\n",
       "      <td>27.732260</td>\n",
       "      <td>38.811457</td>\n",
       "      <td>NaN</td>\n",
       "      <td>37.980045</td>\n",
       "      <td>23.731628</td>\n",
       "      <td>3.436723</td>\n",
       "      <td>1.146652</td>\n",
       "      <td>...</td>\n",
       "      <td>4.769060</td>\n",
       "      <td>4.857285</td>\n",
       "      <td>4.854976</td>\n",
       "      <td>4.684994</td>\n",
       "      <td>4.723310</td>\n",
       "      <td>13.517832</td>\n",
       "      <td>12.478491</td>\n",
       "      <td>0.937716</td>\n",
       "      <td>0.033017</td>\n",
       "      <td>1.810473</td>\n",
       "    </tr>\n",
       "    <tr>\n",
       "      <th>std</th>\n",
       "      <td>4.946901e+17</td>\n",
       "      <td>5.906467e+00</td>\n",
       "      <td>1.963025e+08</td>\n",
       "      <td>94.523635</td>\n",
       "      <td>181.267622</td>\n",
       "      <td>NaN</td>\n",
       "      <td>0.013415</td>\n",
       "      <td>0.012444</td>\n",
       "      <td>1.381206</td>\n",
       "      <td>0.561024</td>\n",
       "      <td>...</td>\n",
       "      <td>0.386886</td>\n",
       "      <td>0.295466</td>\n",
       "      <td>0.335856</td>\n",
       "      <td>0.434325</td>\n",
       "      <td>0.395479</td>\n",
       "      <td>21.861888</td>\n",
       "      <td>21.577641</td>\n",
       "      <td>4.242868</td>\n",
       "      <td>0.474390</td>\n",
       "      <td>1.792152</td>\n",
       "    </tr>\n",
       "    <tr>\n",
       "      <th>min</th>\n",
       "      <td>1.099000e+04</td>\n",
       "      <td>2.024092e+13</td>\n",
       "      <td>1.805000e+03</td>\n",
       "      <td>1.000000</td>\n",
       "      <td>1.000000</td>\n",
       "      <td>NaN</td>\n",
       "      <td>37.950322</td>\n",
       "      <td>23.701280</td>\n",
       "      <td>1.000000</td>\n",
       "      <td>0.000000</td>\n",
       "      <td>...</td>\n",
       "      <td>1.000000</td>\n",
       "      <td>1.000000</td>\n",
       "      <td>1.000000</td>\n",
       "      <td>1.000000</td>\n",
       "      <td>1.000000</td>\n",
       "      <td>1.000000</td>\n",
       "      <td>0.000000</td>\n",
       "      <td>0.000000</td>\n",
       "      <td>0.000000</td>\n",
       "      <td>0.010000</td>\n",
       "    </tr>\n",
       "    <tr>\n",
       "      <th>25%</th>\n",
       "      <td>3.939362e+07</td>\n",
       "      <td>2.024092e+13</td>\n",
       "      <td>7.004271e+07</td>\n",
       "      <td>2.000000</td>\n",
       "      <td>2.000000</td>\n",
       "      <td>NaN</td>\n",
       "      <td>37.968946</td>\n",
       "      <td>23.723961</td>\n",
       "      <td>2.000000</td>\n",
       "      <td>1.000000</td>\n",
       "      <td>...</td>\n",
       "      <td>4.710000</td>\n",
       "      <td>4.840000</td>\n",
       "      <td>4.850000</td>\n",
       "      <td>4.580000</td>\n",
       "      <td>4.670000</td>\n",
       "      <td>1.000000</td>\n",
       "      <td>1.000000</td>\n",
       "      <td>0.000000</td>\n",
       "      <td>0.000000</td>\n",
       "      <td>0.460000</td>\n",
       "    </tr>\n",
       "    <tr>\n",
       "      <th>50%</th>\n",
       "      <td>7.601029e+17</td>\n",
       "      <td>2.024092e+13</td>\n",
       "      <td>2.043019e+08</td>\n",
       "      <td>6.000000</td>\n",
       "      <td>7.000000</td>\n",
       "      <td>NaN</td>\n",
       "      <td>37.978476</td>\n",
       "      <td>23.729631</td>\n",
       "      <td>4.000000</td>\n",
       "      <td>1.000000</td>\n",
       "      <td>...</td>\n",
       "      <td>4.890000</td>\n",
       "      <td>4.940000</td>\n",
       "      <td>4.950000</td>\n",
       "      <td>4.820000</td>\n",
       "      <td>4.820000</td>\n",
       "      <td>4.000000</td>\n",
       "      <td>3.000000</td>\n",
       "      <td>0.000000</td>\n",
       "      <td>0.000000</td>\n",
       "      <td>1.170000</td>\n",
       "    </tr>\n",
       "    <tr>\n",
       "      <th>75%</th>\n",
       "      <td>1.060710e+18</td>\n",
       "      <td>2.024092e+13</td>\n",
       "      <td>4.566140e+08</td>\n",
       "      <td>22.000000</td>\n",
       "      <td>26.000000</td>\n",
       "      <td>NaN</td>\n",
       "      <td>37.987947</td>\n",
       "      <td>23.737565</td>\n",
       "      <td>4.000000</td>\n",
       "      <td>1.000000</td>\n",
       "      <td>...</td>\n",
       "      <td>5.000000</td>\n",
       "      <td>5.000000</td>\n",
       "      <td>5.000000</td>\n",
       "      <td>4.970000</td>\n",
       "      <td>4.940000</td>\n",
       "      <td>16.000000</td>\n",
       "      <td>14.000000</td>\n",
       "      <td>0.000000</td>\n",
       "      <td>0.000000</td>\n",
       "      <td>2.680000</td>\n",
       "    </tr>\n",
       "    <tr>\n",
       "      <th>max</th>\n",
       "      <td>1.250702e+18</td>\n",
       "      <td>2.024092e+13</td>\n",
       "      <td>6.532905e+08</td>\n",
       "      <td>2983.000000</td>\n",
       "      <td>7294.000000</td>\n",
       "      <td>NaN</td>\n",
       "      <td>38.030830</td>\n",
       "      <td>23.780220</td>\n",
       "      <td>7.000000</td>\n",
       "      <td>48.500000</td>\n",
       "      <td>...</td>\n",
       "      <td>5.000000</td>\n",
       "      <td>5.000000</td>\n",
       "      <td>5.000000</td>\n",
       "      <td>5.000000</td>\n",
       "      <td>5.000000</td>\n",
       "      <td>124.000000</td>\n",
       "      <td>124.000000</td>\n",
       "      <td>40.000000</td>\n",
       "      <td>9.000000</td>\n",
       "      <td>15.330000</td>\n",
       "    </tr>\n",
       "  </tbody>\n",
       "</table>\n",
       "<p>8 rows × 40 columns</p>\n",
       "</div>"
      ],
      "text/plain": [
       "                 id     scrape_id       host_id  host_listings_count  \\\n",
       "count  1.359900e+04  1.359900e+04  1.359900e+04         13599.000000   \n",
       "mean   5.947929e+17  2.024092e+13  2.528435e+08            27.732260   \n",
       "std    4.946901e+17  5.906467e+00  1.963025e+08            94.523635   \n",
       "min    1.099000e+04  2.024092e+13  1.805000e+03             1.000000   \n",
       "25%    3.939362e+07  2.024092e+13  7.004271e+07             2.000000   \n",
       "50%    7.601029e+17  2.024092e+13  2.043019e+08             6.000000   \n",
       "75%    1.060710e+18  2.024092e+13  4.566140e+08            22.000000   \n",
       "max    1.250702e+18  2.024092e+13  6.532905e+08          2983.000000   \n",
       "\n",
       "       host_total_listings_count  neighbourhood_group_cleansed      latitude  \\\n",
       "count               13599.000000                           0.0  13599.000000   \n",
       "mean                   38.811457                           NaN     37.980045   \n",
       "std                   181.267622                           NaN      0.013415   \n",
       "min                     1.000000                           NaN     37.950322   \n",
       "25%                     2.000000                           NaN     37.968946   \n",
       "50%                     7.000000                           NaN     37.978476   \n",
       "75%                    26.000000                           NaN     37.987947   \n",
       "max                  7294.000000                           NaN     38.030830   \n",
       "\n",
       "          longitude  accommodates     bathrooms  ...  \\\n",
       "count  13599.000000  13599.000000  13174.000000  ...   \n",
       "mean      23.731628      3.436723      1.146652  ...   \n",
       "std        0.012444      1.381206      0.561024  ...   \n",
       "min       23.701280      1.000000      0.000000  ...   \n",
       "25%       23.723961      2.000000      1.000000  ...   \n",
       "50%       23.729631      4.000000      1.000000  ...   \n",
       "75%       23.737565      4.000000      1.000000  ...   \n",
       "max       23.780220      7.000000     48.500000  ...   \n",
       "\n",
       "       review_scores_cleanliness  review_scores_checkin  \\\n",
       "count               11795.000000           11795.000000   \n",
       "mean                    4.769060               4.857285   \n",
       "std                     0.386886               0.295466   \n",
       "min                     1.000000               1.000000   \n",
       "25%                     4.710000               4.840000   \n",
       "50%                     4.890000               4.940000   \n",
       "75%                     5.000000               5.000000   \n",
       "max                     5.000000               5.000000   \n",
       "\n",
       "       review_scores_communication  review_scores_location  \\\n",
       "count                 11795.000000            11795.000000   \n",
       "mean                      4.854976                4.684994   \n",
       "std                       0.335856                0.434325   \n",
       "min                       1.000000                1.000000   \n",
       "25%                       4.850000                4.580000   \n",
       "50%                       4.950000                4.820000   \n",
       "75%                       5.000000                4.970000   \n",
       "max                       5.000000                5.000000   \n",
       "\n",
       "       review_scores_value  calculated_host_listings_count  \\\n",
       "count         11795.000000                    13599.000000   \n",
       "mean              4.723310                       13.517832   \n",
       "std               0.395479                       21.861888   \n",
       "min               1.000000                        1.000000   \n",
       "25%               4.670000                        1.000000   \n",
       "50%               4.820000                        4.000000   \n",
       "75%               4.940000                       16.000000   \n",
       "max               5.000000                      124.000000   \n",
       "\n",
       "       calculated_host_listings_count_entire_homes  \\\n",
       "count                                 13599.000000   \n",
       "mean                                     12.478491   \n",
       "std                                      21.577641   \n",
       "min                                       0.000000   \n",
       "25%                                       1.000000   \n",
       "50%                                       3.000000   \n",
       "75%                                      14.000000   \n",
       "max                                     124.000000   \n",
       "\n",
       "       calculated_host_listings_count_private_rooms  \\\n",
       "count                                  13599.000000   \n",
       "mean                                       0.937716   \n",
       "std                                        4.242868   \n",
       "min                                        0.000000   \n",
       "25%                                        0.000000   \n",
       "50%                                        0.000000   \n",
       "75%                                        0.000000   \n",
       "max                                       40.000000   \n",
       "\n",
       "       calculated_host_listings_count_shared_rooms  reviews_per_month  \n",
       "count                                 13599.000000       11795.000000  \n",
       "mean                                      0.033017           1.810473  \n",
       "std                                       0.474390           1.792152  \n",
       "min                                       0.000000           0.010000  \n",
       "25%                                       0.000000           0.460000  \n",
       "50%                                       0.000000           1.170000  \n",
       "75%                                       0.000000           2.680000  \n",
       "max                                       9.000000          15.330000  \n",
       "\n",
       "[8 rows x 40 columns]"
      ]
     },
     "execution_count": 41,
     "metadata": {},
     "output_type": "execute_result"
    }
   ],
   "source": [
    "# Basic statistics \n",
    "df.describe()"
   ]
  },
  {
   "cell_type": "code",
   "execution_count": 42,
   "metadata": {},
   "outputs": [
    {
     "data": {
      "text/plain": [
       "count      13187\n",
       "unique       473\n",
       "top       $60.00\n",
       "freq         363\n",
       "Name: price, dtype: object"
      ]
     },
     "execution_count": 42,
     "metadata": {},
     "output_type": "execute_result"
    }
   ],
   "source": [
    "# Basic statistics of target variable (price)\n",
    "df.price.describe()"
   ]
  },
  {
   "cell_type": "markdown",
   "metadata": {},
   "source": [
    "### The format of price variable is changed later "
   ]
  },
  {
   "cell_type": "code",
   "execution_count": 44,
   "metadata": {},
   "outputs": [
    {
     "data": {
      "text/plain": [
       "room_type\n",
       "Entire home/apt    12469\n",
       "Private room        1006\n",
       "Hotel room            72\n",
       "Shared room           52\n",
       "Name: count, dtype: int64"
      ]
     },
     "execution_count": 44,
     "metadata": {},
     "output_type": "execute_result"
    }
   ],
   "source": [
    "# Different types of rooms\n",
    "df.room_type.value_counts()"
   ]
  },
  {
   "cell_type": "code",
   "execution_count": 45,
   "metadata": {},
   "outputs": [
    {
     "data": {
      "text/plain": [
       "property_type\n",
       "Entire rental unit                    8740\n",
       "Entire condo                          2862\n",
       "Private room in rental unit            417\n",
       "Entire home                            318\n",
       "Entire serviced apartment              257\n",
       "Room in hotel                          213\n",
       "Entire loft                            131\n",
       "Private room in condo                  114\n",
       "Room in aparthotel                     102\n",
       "Room in boutique hotel                  79\n",
       "Private room in serviced apartment      41\n",
       "Room in serviced apartment              38\n",
       "Private room in home                    38\n",
       "Private room in bed and breakfast       27\n",
       "Shared room in hostel                   26\n",
       "Private room in guest suite             20\n",
       "Entire townhouse                        20\n",
       "Private room in guesthouse              18\n",
       "Private room in hostel                  16\n",
       "Tiny home                               16\n",
       "Entire vacation home                    16\n",
       "Entire guesthouse                       11\n",
       "Entire guest suite                      10\n",
       "Entire place                             9\n",
       "Shared room in home                      9\n",
       "Entire villa                             7\n",
       "Shared room in hotel                     5\n",
       "Shared room in bed and breakfast         5\n",
       "Private room                             4\n",
       "Private room in townhouse                4\n",
       "Camper/RV                                4\n",
       "Casa particular                          3\n",
       "Earthen home                             3\n",
       "Cycladic home                            2\n",
       "Shared room in townhouse                 2\n",
       "Shared room in guesthouse                2\n",
       "Shared room in condo                     2\n",
       "Private room in casa particular          2\n",
       "Private room in earthen home             1\n",
       "Shared room in rental unit               1\n",
       "Private room in floor                    1\n",
       "Floor                                    1\n",
       "Private room in tent                     1\n",
       "Entire cottage                           1\n",
       "Name: count, dtype: int64"
      ]
     },
     "execution_count": 45,
     "metadata": {},
     "output_type": "execute_result"
    }
   ],
   "source": [
    "# Different types of property\n",
    "df.property_type.value_counts()"
   ]
  },
  {
   "cell_type": "code",
   "execution_count": 46,
   "metadata": {},
   "outputs": [
    {
     "data": {
      "text/plain": [
       "number_of_reviews\n",
       "0      1804\n",
       "1       914\n",
       "2       700\n",
       "3       565\n",
       "4       444\n",
       "       ... \n",
       "515       1\n",
       "636       1\n",
       "457       1\n",
       "454       1\n",
       "464       1\n",
       "Name: count, Length: 523, dtype: int64"
      ]
     },
     "execution_count": 46,
     "metadata": {},
     "output_type": "execute_result"
    }
   ],
   "source": [
    "# Number of reviews\n",
    "df.number_of_reviews.value_counts()"
   ]
  },
  {
   "cell_type": "markdown",
   "metadata": {},
   "source": [
    "## Feature Engineering"
   ]
  },
  {
   "cell_type": "code",
   "execution_count": 12,
   "metadata": {},
   "outputs": [],
   "source": [
    "def feature_engineering(df):\n",
    "    # Basic cleaning\n",
    "    df = df.dropna(subset=['price'])  # Drop rows where price is missing\n",
    "    df['price'] = df['price'].astype(str).str.replace(r'[$,]', '', regex=True).astype(float)  # Change the format of the price variable \n",
    "\n",
    "    # Feature Engineering (extracting number of amenities)\n",
    "    df['num_amenities'] = df['amenities'].apply(lambda x: len(eval(x)) if isinstance(x, str) else 0)\n",
    "\n",
    "    # Extract amenities as explicit dummy columns\n",
    "    amenities_list = ['Air conditioning', 'Smoking allowed', \n",
    "                      'Pets allowed', 'Free parking on premises']\n",
    "    for amenity in amenities_list:\n",
    "        df[amenity] = df['amenities'].apply(lambda x: 1 if isinstance(x, str) and amenity in x else 0)\n",
    "\n",
    "    # Basic Variables\n",
    "    basic_vars = [\n",
    "        \"accommodates\",\n",
    "        \"bedrooms\",\n",
    "        \"beds\",\n",
    "        \"minimum_nights\",\n",
    "        \"maximum_nights\",\n",
    "        \"property_type\",\n",
    "        \"room_type\",\n",
    "        \"bathrooms\",\n",
    "        \"num_amenities\"\n",
    "    ]\n",
    "\n",
    "    # Reviews\n",
    "    reviews = [\n",
    "        \"number_of_reviews\",\n",
    "        \"number_of_reviews_ltm\",\n",
    "        \"review_scores_rating\",\n",
    "        \"review_scores_value\",\n",
    "        \"reviews_per_month\"\n",
    "    ]\n",
    "\n",
    "    # Combine predictors and target variable\n",
    "    predictors = basic_vars + reviews + amenities_list \n",
    "    df = df[predictors + ['price']]  # Include target variable 'price'\n",
    "\n",
    "    return df"
   ]
  },
  {
   "cell_type": "markdown",
   "metadata": {},
   "source": [
    "### Variable selection:\n",
    "### *accommodates* captures the size of the property in terms of the number of people it can host, which can affect the price.\n",
    "### *bedrooms*, *beds*, and *bathrooms* are likely to correlate with the size and comfort of the property, thus impacting price.\n",
    "### *property_type* and *room_type* categorize the type of accommodation, which influences how much people are willing to pay for a stay.\n",
    "### Review Variables: The *number of reviews* and *ratings* provide useful information about the quality of the property. Higher-rated properties or those with more reviews may have higher prices due to higher demand or quality.\n",
    "### Amenities: The presence of certain amenities like *air conditioning*, *free parking*, *allowance of smoking* and the *allowance of pets* can make properties more attractive and increase the price. Including them as binary features allows the model to learn how these specific amenities affect the price."
   ]
  },
  {
   "cell_type": "markdown",
   "metadata": {},
   "source": [
    "### Feature Engineering:\n",
    "### Missing Values Handling: The decision to drop rows where the price is missing ensures that the model won't be trained on incomplete data. \n",
    "### Amenities Count (num_amenities): By counting the number of amenities listed, we create a simple yet informative feature that summarizes how well-equipped a property is. This feature captures the idea that properties with more amenities are generally more expensive.\n",
    "### Dummy Variables for Amenities: By creating binary features for specific important amenities like air conditioning and parking, we allow the model to learn whether these factors directly influence the price. "
   ]
  },
  {
   "cell_type": "code",
   "execution_count": 13,
   "metadata": {},
   "outputs": [
    {
     "name": "stderr",
     "output_type": "stream",
     "text": [
      "/var/folders/rt/ht2w66yn71737qv5l2n9w4s00000gn/T/ipykernel_1940/1173305148.py:4: SettingWithCopyWarning: \n",
      "A value is trying to be set on a copy of a slice from a DataFrame.\n",
      "Try using .loc[row_indexer,col_indexer] = value instead\n",
      "\n",
      "See the caveats in the documentation: https://pandas.pydata.org/pandas-docs/stable/user_guide/indexing.html#returning-a-view-versus-a-copy\n",
      "  df['price'] = df['price'].astype(str).str.replace(r'[$,]', '', regex=True).astype(float)  # Change the format of the price variable\n",
      "/var/folders/rt/ht2w66yn71737qv5l2n9w4s00000gn/T/ipykernel_1940/1173305148.py:7: SettingWithCopyWarning: \n",
      "A value is trying to be set on a copy of a slice from a DataFrame.\n",
      "Try using .loc[row_indexer,col_indexer] = value instead\n",
      "\n",
      "See the caveats in the documentation: https://pandas.pydata.org/pandas-docs/stable/user_guide/indexing.html#returning-a-view-versus-a-copy\n",
      "  df['num_amenities'] = df['amenities'].apply(lambda x: len(eval(x)) if isinstance(x, str) else 0)\n",
      "/var/folders/rt/ht2w66yn71737qv5l2n9w4s00000gn/T/ipykernel_1940/1173305148.py:13: SettingWithCopyWarning: \n",
      "A value is trying to be set on a copy of a slice from a DataFrame.\n",
      "Try using .loc[row_indexer,col_indexer] = value instead\n",
      "\n",
      "See the caveats in the documentation: https://pandas.pydata.org/pandas-docs/stable/user_guide/indexing.html#returning-a-view-versus-a-copy\n",
      "  df[amenity] = df['amenities'].apply(lambda x: 1 if isinstance(x, str) and amenity in x else 0)\n",
      "/var/folders/rt/ht2w66yn71737qv5l2n9w4s00000gn/T/ipykernel_1940/1173305148.py:13: SettingWithCopyWarning: \n",
      "A value is trying to be set on a copy of a slice from a DataFrame.\n",
      "Try using .loc[row_indexer,col_indexer] = value instead\n",
      "\n",
      "See the caveats in the documentation: https://pandas.pydata.org/pandas-docs/stable/user_guide/indexing.html#returning-a-view-versus-a-copy\n",
      "  df[amenity] = df['amenities'].apply(lambda x: 1 if isinstance(x, str) and amenity in x else 0)\n",
      "/var/folders/rt/ht2w66yn71737qv5l2n9w4s00000gn/T/ipykernel_1940/1173305148.py:13: SettingWithCopyWarning: \n",
      "A value is trying to be set on a copy of a slice from a DataFrame.\n",
      "Try using .loc[row_indexer,col_indexer] = value instead\n",
      "\n",
      "See the caveats in the documentation: https://pandas.pydata.org/pandas-docs/stable/user_guide/indexing.html#returning-a-view-versus-a-copy\n",
      "  df[amenity] = df['amenities'].apply(lambda x: 1 if isinstance(x, str) and amenity in x else 0)\n",
      "/var/folders/rt/ht2w66yn71737qv5l2n9w4s00000gn/T/ipykernel_1940/1173305148.py:13: SettingWithCopyWarning: \n",
      "A value is trying to be set on a copy of a slice from a DataFrame.\n",
      "Try using .loc[row_indexer,col_indexer] = value instead\n",
      "\n",
      "See the caveats in the documentation: https://pandas.pydata.org/pandas-docs/stable/user_guide/indexing.html#returning-a-view-versus-a-copy\n",
      "  df[amenity] = df['amenities'].apply(lambda x: 1 if isinstance(x, str) and amenity in x else 0)\n"
     ]
    }
   ],
   "source": [
    "df = feature_engineering(df)"
   ]
  },
  {
   "cell_type": "markdown",
   "metadata": {},
   "source": [
    "## Train and Split Dataset"
   ]
  },
  {
   "cell_type": "code",
   "execution_count": 47,
   "metadata": {},
   "outputs": [],
   "source": [
    "# Train-test split: 80% - train, 20% - test\n",
    "X = df.drop(columns=['price'])\n",
    "y = df['price']\n",
    "X_train, X_test, y_train, y_test = train_test_split(X, y, test_size=0.2, random_state=42)"
   ]
  },
  {
   "cell_type": "code",
   "execution_count": 15,
   "metadata": {},
   "outputs": [
    {
     "data": {
      "text/plain": [
       "((10549, 18), (2638, 18))"
      ]
     },
     "execution_count": 15,
     "metadata": {},
     "output_type": "execute_result"
    }
   ],
   "source": [
    "X_train.shape, X_test.shape"
   ]
  },
  {
   "cell_type": "code",
   "execution_count": 16,
   "metadata": {},
   "outputs": [],
   "source": [
    "# Categorizing the columns \n",
    "numeric_cols = [\"accommodates\", \"bedrooms\", \"beds\", \"minimum_nights\", \"maximum_nights\", \"bathrooms\", \"num_amenities\", \n",
    "                \"number_of_reviews\", \"number_of_reviews_ltm\", \"review_scores_rating\", \"review_scores_value\", \"reviews_per_month\"]\n",
    "categorical_cols = [\"property_type\", \"room_type\"]"
   ]
  },
  {
   "cell_type": "markdown",
   "metadata": {},
   "source": [
    "## Imputation of missing values"
   ]
  },
  {
   "cell_type": "code",
   "execution_count": 17,
   "metadata": {},
   "outputs": [],
   "source": [
    "# Impute missing values\n",
    "num_imputer = SimpleImputer(strategy='median')\n",
    "cat_imputer = SimpleImputer(strategy='most_frequent')\n",
    "\n",
    "X_train[numeric_cols] = num_imputer.fit_transform(X_train[numeric_cols])\n",
    "X_test[numeric_cols] = num_imputer.transform(X_test[numeric_cols])\n",
    "\n",
    "X_train[categorical_cols] = cat_imputer.fit_transform(X_train[categorical_cols])\n",
    "X_test[categorical_cols] = cat_imputer.transform(X_test[categorical_cols])\n",
    "\n",
    "# Convert categorical variables to dummy variables\n",
    "X_train = pd.get_dummies(X_train, columns=categorical_cols, drop_first=True)\n",
    "X_test = pd.get_dummies(X_test, columns=categorical_cols, drop_first=True)"
   ]
  },
  {
   "cell_type": "markdown",
   "metadata": {},
   "source": [
    "### Imputation Strategy:\n",
    "### Numeric Columns: The choice of using the median for numeric columns is practical, especially in cases where the data may have outliers that could skew the mean. The median is more robust in this case, helping to maintain the integrity of the dataset without introducing bias due to extreme values.\n",
    "### Categorical Columns: For categorical variables, imputing missing values with the most frequent category is a common approach. The assumption is that the missing data is likely to belong to the most common category. For example, if most properties are of a certain room type (e.g., \"Entire home\"), it makes sense to impute missing values with that category."
   ]
  },
  {
   "cell_type": "markdown",
   "metadata": {},
   "source": [
    "### One-Hot Encoding of Categorical Variables:\n",
    "### Algorithms like linear regression cannot process categorical variables directly. One-hot encoding (dummy variables) transforms these categorical variables into binary columns that indicate the presence of a specific category."
   ]
  },
  {
   "cell_type": "code",
   "execution_count": 18,
   "metadata": {},
   "outputs": [
    {
     "data": {
      "text/plain": [
       "((10549, 60), (2638, 50))"
      ]
     },
     "execution_count": 18,
     "metadata": {},
     "output_type": "execute_result"
    }
   ],
   "source": [
    "X_train.shape, X_test.shape"
   ]
  },
  {
   "cell_type": "code",
   "execution_count": 19,
   "metadata": {},
   "outputs": [],
   "source": [
    "# Ensure both sets have the same features\n",
    "X_train, X_test = X_train.align(X_test, join='left', axis=1, fill_value=0)"
   ]
  },
  {
   "cell_type": "code",
   "execution_count": 20,
   "metadata": {},
   "outputs": [
    {
     "data": {
      "text/plain": [
       "((10549, 60), (2638, 60))"
      ]
     },
     "execution_count": 20,
     "metadata": {},
     "output_type": "execute_result"
    }
   ],
   "source": [
    "X_train.shape, X_test.shape"
   ]
  },
  {
   "cell_type": "markdown",
   "metadata": {},
   "source": [
    "## Modelling"
   ]
  },
  {
   "cell_type": "code",
   "execution_count": 28,
   "metadata": {},
   "outputs": [],
   "source": [
    "# Define models\n",
    "models = {\n",
    "    \"OLS\": LinearRegression(),\n",
    "    \"LASSO\": LassoCV(cv=5),\n",
    "    \"Random Forest\": RandomForestRegressor(n_estimators=100, random_state=42),\n",
    "    \"Gradient Boosting\": GradientBoostingRegressor(n_estimators=100, random_state=42),\n",
    "    \"XGBoost\": XGBRegressor(n_estimators=100, random_state=42)\n",
    "}"
   ]
  },
  {
   "cell_type": "markdown",
   "metadata": {},
   "source": [
    "### XGBoost model is chosen as the fifth model."
   ]
  },
  {
   "cell_type": "code",
   "execution_count": 29,
   "metadata": {},
   "outputs": [
    {
     "name": "stderr",
     "output_type": "stream",
     "text": [
      "/opt/anaconda3/envs/ml/lib/python3.10/site-packages/sklearn/metrics/_regression.py:492: FutureWarning: 'squared' is deprecated in version 1.4 and will be removed in 1.6. To calculate the root mean squared error, use the function'root_mean_squared_error'.\n",
      "  warnings.warn(\n",
      "/opt/anaconda3/envs/ml/lib/python3.10/site-packages/sklearn/metrics/_regression.py:492: FutureWarning: 'squared' is deprecated in version 1.4 and will be removed in 1.6. To calculate the root mean squared error, use the function'root_mean_squared_error'.\n",
      "  warnings.warn(\n",
      "/opt/anaconda3/envs/ml/lib/python3.10/site-packages/sklearn/metrics/_regression.py:492: FutureWarning: 'squared' is deprecated in version 1.4 and will be removed in 1.6. To calculate the root mean squared error, use the function'root_mean_squared_error'.\n",
      "  warnings.warn(\n",
      "/opt/anaconda3/envs/ml/lib/python3.10/site-packages/sklearn/metrics/_regression.py:492: FutureWarning: 'squared' is deprecated in version 1.4 and will be removed in 1.6. To calculate the root mean squared error, use the function'root_mean_squared_error'.\n",
      "  warnings.warn(\n",
      "/opt/anaconda3/envs/ml/lib/python3.10/site-packages/sklearn/metrics/_regression.py:492: FutureWarning: 'squared' is deprecated in version 1.4 and will be removed in 1.6. To calculate the root mean squared error, use the function'root_mean_squared_error'.\n",
      "  warnings.warn(\n"
     ]
    }
   ],
   "source": [
    "# Train and evaluate models\n",
    "results = []\n",
    "for name, model in models.items():\n",
    "    start_time = time.time()\n",
    "    model.fit(X_train, y_train)\n",
    "    y_pred = model.predict(X_test)\n",
    "    elapsed_time = time.time() - start_time\n",
    "    rmse = mean_squared_error(y_test, y_pred, squared=False)\n",
    "    r2 = r2_score(y_test, y_pred)\n",
    "    results.append([name, rmse, r2, elapsed_time])"
   ]
  },
  {
   "cell_type": "code",
   "execution_count": 30,
   "metadata": {},
   "outputs": [
    {
     "name": "stdout",
     "output_type": "stream",
     "text": [
      "               Model        RMSE        R²  Time (s)\n",
      "0                OLS  136.519938  0.057557  0.064759\n",
      "1              LASSO  138.291516  0.032939  0.143359\n",
      "2      Random Forest  139.991546  0.009017  3.836041\n",
      "3  Gradient Boosting  138.971085  0.023411  0.886765\n",
      "4            XGBoost  138.365679  0.031902  0.122175\n"
     ]
    }
   ],
   "source": [
    "# Create results DataFrame\n",
    "results_df = pd.DataFrame(results, columns=[\"Model\", \"RMSE\", \"R²\", \"Time (s)\"])\n",
    "print(results_df)"
   ]
  },
  {
   "cell_type": "markdown",
   "metadata": {},
   "source": [
    "### Overall Performance: All models have relatively low R² values, which suggests that none of them are performing particularly well in explaining the variance of the target variable (price). This could be due to the features not being highly predictive or the model needing further tuning. Additionally, the low R² could indicate a high level of noise in the data, or that the target variable is influenced by factors not captured in the features.\n",
    "### Model Comparison:\n",
    "### **OLS** was the fastest but also had the highest performance in terms of R², as was not expected for a simple linear model.\n",
    "### **LASSO** added regularization, which slightly increased RMSE and further decreased R² compared to OLS, possibly due to underfitting.\n",
    "### **Random Forest** was the worst in terms of R² and the time taken.\n",
    "### **Gradient Boosting** performed better than Random Forest. However, these models are more complex and have the potential to perform better with hyperparameter tuning or feature engineering.\n",
    "### **XGBoost** was the second fastest and showed better performance than Gradient Boosting, although its R² was also low.\n",
    "### Computation Time: Models like OLS, XGBoost, and LASSO offer reasonable computation times, while Random Forest is significantly slower."
   ]
  },
  {
   "cell_type": "markdown",
   "metadata": {},
   "source": [
    "## Feature Importance Comparison "
   ]
  },
  {
   "cell_type": "code",
   "execution_count": 31,
   "metadata": {},
   "outputs": [],
   "source": [
    "# Feature importance comparison for RF and Gradient Boosting\n",
    "rf_importance = models['Random Forest'].feature_importances_\n",
    "boosting_importance = models['Gradient Boosting'].feature_importances_\n",
    "feature_names = X_train.columns"
   ]
  },
  {
   "cell_type": "code",
   "execution_count": 32,
   "metadata": {},
   "outputs": [
    {
     "data": {
      "image/png": "[encoded data removed]",
      "text/plain": [
       "<Figure size 1000x600 with 1 Axes>"
      ]
     },
     "metadata": {},
     "output_type": "display_data"
    },
    {
     "name": "stdout",
     "output_type": "stream",
     "text": [
      "Top 10 Random Forest Features:\n",
      "                      Importance\n",
      "Feature                         \n",
      "num_amenities           0.125436\n",
      "minimum_nights          0.111814\n",
      "maximum_nights          0.104022\n",
      "bathrooms               0.071400\n",
      "beds                    0.068618\n",
      "accommodates            0.068583\n",
      "reviews_per_month       0.059255\n",
      "number_of_reviews       0.053033\n",
      "review_scores_rating    0.050790\n",
      "review_scores_value     0.043338\n"
     ]
    }
   ],
   "source": [
    "# Create DataFrame for RF feature importance\n",
    "rf_importance_df = pd.DataFrame({\n",
    "    'Feature': feature_names,\n",
    "    'Importance': rf_importance\n",
    "}).set_index('Feature')\n",
    "\n",
    "# Sort by importance and get the top 10\n",
    "rf_top_features = rf_importance_df.sort_values(by='Importance', ascending=False).head(10)\n",
    "\n",
    "# Plot Random Forest feature importance\n",
    "plt.figure(figsize=(10, 6))\n",
    "rf_top_features['Importance'].plot(kind='bar')\n",
    "plt.title(\"Top 10 Feature Importance - Random Forest\")\n",
    "plt.ylabel(\"Importance\")\n",
    "plt.show()\n",
    "\n",
    "# Print the top 10 important features for RF\n",
    "print(\"Top 10 Random Forest Features:\")\n",
    "print(rf_top_features)\n"
   ]
  },
  {
   "cell_type": "code",
   "execution_count": 33,
   "metadata": {},
   "outputs": [
    {
     "data": {
      "image/png": "[encoded data removed]",
      "text/plain": [
       "<Figure size 1000x600 with 1 Axes>"
      ]
     },
     "metadata": {},
     "output_type": "display_data"
    },
    {
     "name": "stdout",
     "output_type": "stream",
     "text": [
      "Top 10 Gradient Boosting Features:\n",
      "                          Importance\n",
      "Feature                             \n",
      "minimum_nights              0.201900\n",
      "beds                        0.188562\n",
      "bathrooms                   0.132987\n",
      "number_of_reviews_ltm       0.117317\n",
      "maximum_nights              0.053930\n",
      "review_scores_rating        0.045968\n",
      "accommodates                0.043854\n",
      "num_amenities               0.042382\n",
      "number_of_reviews           0.026879\n",
      "Free parking on premises    0.020767\n"
     ]
    }
   ],
   "source": [
    "# Create DataFrame for Gradient Boosting feature importance\n",
    "boosting_importance = pd.DataFrame({\n",
    "    'Feature': feature_names,\n",
    "    'Importance': boosting_importance\n",
    "}).set_index('Feature')\n",
    "\n",
    "# Sort by importance and get the top 10\n",
    "boosting_top_features = boosting_importance.sort_values(by='Importance', ascending=False).head(10)\n",
    "\n",
    "# Plot Gradient Boosting feature importance\n",
    "plt.figure(figsize=(10, 6))\n",
    "boosting_top_features['Importance'].plot(kind='bar')\n",
    "plt.title(\"Top 10 Feature Importance - Gradient Boosting\")\n",
    "plt.ylabel(\"Importance\")\n",
    "plt.show()\n",
    "\n",
    "# Print the top 10 important features for Gradient Boosting\n",
    "print(\"Top 10 Gradient Boosting Features:\")\n",
    "print(boosting_top_features)\n"
   ]
  },
  {
   "cell_type": "markdown",
   "metadata": {},
   "source": [
    "### For Random Forest, minimum_nights ranks 2nd, while for Gradient Boosting, it ranks 1st with the highest importance score.\n",
    "### This indicates that minimum_nights is highly influential in both models, with Gradient Boosting giving it more weight. This may suggest that the number of minimum nights required to book a listing plays a significant role in determining the price.\n",
    "\n",
    "### Beds ranks 5th in Random Forest and 2nd in Gradient Boosting, showing that Gradient Boosting places a higher importance on this feature. More beds likely indicate a larger or more luxurious property, thus influencing the price more heavily.\n",
    "\n",
    "### Both models agree that bathrooms are quite important, ranking 4th in Random Forest and 3rd in Gradient Boosting. This makes sense, as properties with more bathrooms tend to be larger and more expensive.\n",
    "\n",
    "### Number_of_reviews appears in the top 10 features for both models, though its rank is slightly lower in Gradient Boosting. The number of reviews can be an indirect signal of a property’s popularity, which could affect its pricing.\n",
    "\n",
    "### Num_amenities ranks 1st in Random Forest but 8th in Gradient Boosting, suggesting that Random Forest places a higher emphasis on the availability of amenities as a key factor in the price. This could indicate that amenities are a strong differentiator in pricing according to the Random Forest model.\n",
    "\n",
    "### Accommodates ranks highly in both models (6th in Random Forest and 7th in Gradient Boosting). This is expected, as the number of people a property can accommodate typically correlates with its size and, consequently, its price.\n",
    "\n",
    "### Reviews_per_month is included in the top 10 features for Random Forest, but it does not appear in Gradient Boosting’s top 10. This could suggest that reviews per month, while potentially informative, are less crucial for determining price according to Gradient Boosting.\n",
    "\n",
    "### In the Gradient Boosting model, Free parking on premises (a specific feature) is included in the top 10, indicating that having parking available significantly impacts price.\n",
    "### However, this feature doesn't appear in the Random Forest model's top 10."
   ]
  },
  {
   "cell_type": "markdown",
   "metadata": {},
   "source": [
    "# Part II. Validity"
   ]
  },
  {
   "cell_type": "markdown",
   "metadata": {},
   "source": [
    "## Later data"
   ]
  },
  {
   "cell_type": "code",
   "execution_count": 309,
   "metadata": {},
   "outputs": [],
   "source": [
    "# Load data\n",
    "df_later = pd.read_csv(\"../data/athens_q4.csv\")"
   ]
  },
  {
   "cell_type": "code",
   "execution_count": 310,
   "metadata": {},
   "outputs": [],
   "source": [
    "# Feature engineering\n",
    "df_later = feature_engineering(df_later)"
   ]
  },
  {
   "cell_type": "code",
   "execution_count": 311,
   "metadata": {},
   "outputs": [],
   "source": [
    "# Splitting the target variable from data for prediction\n",
    "X = df_later.drop(columns=['price'])\n",
    "y = df_later['price']"
   ]
  },
  {
   "cell_type": "code",
   "execution_count": 312,
   "metadata": {},
   "outputs": [],
   "source": [
    "# Impute missing values using imputer of train data\n",
    "X[numeric_cols] = num_imputer.transform(X[numeric_cols])\n",
    "\n",
    "X[categorical_cols] = cat_imputer.transform(X[categorical_cols])\n",
    "\n",
    "# Convert categorical variables to dummy variables\n",
    "X = pd.get_dummies(X, columns=categorical_cols, drop_first=True)"
   ]
  },
  {
   "cell_type": "code",
   "execution_count": 313,
   "metadata": {},
   "outputs": [
    {
     "data": {
      "text/plain": [
       "(13722, 60)"
      ]
     },
     "execution_count": 313,
     "metadata": {},
     "output_type": "execute_result"
    }
   ],
   "source": [
    "X.shape"
   ]
  },
  {
   "cell_type": "code",
   "execution_count": 314,
   "metadata": {},
   "outputs": [],
   "source": [
    "# Ensure both sets have the same features\n",
    "X = X.reindex(columns=X_train.columns, fill_value=0)"
   ]
  },
  {
   "cell_type": "code",
   "execution_count": 316,
   "metadata": {},
   "outputs": [],
   "source": [
    "# Train and evaluate models\n",
    "results = []\n",
    "for name, model in models.items():\n",
    "    start_time = time.time()\n",
    "    y_pred = model.predict(X)\n",
    "    elapsed_time = time.time() - start_time\n",
    "    rmse = mean_squared_error(y, y_pred, squared=False)\n",
    "    r2 = r2_score(y, y_pred)\n",
    "    results.append([name, rmse, r2, elapsed_time])"
   ]
  },
  {
   "cell_type": "code",
   "execution_count": 317,
   "metadata": {},
   "outputs": [
    {
     "name": "stdout",
     "output_type": "stream",
     "text": [
      "               Model        RMSE        R²  Time (s)\n",
      "0                OLS  302.854484  0.023803  0.006144\n",
      "1              LASSO  304.747538  0.011561  0.006336\n",
      "2      Random Forest  292.993759  0.086336  0.222526\n",
      "3  Gradient Boosting  298.716422  0.050297  0.016221\n",
      "4            XGBoost  292.735924  0.087944  0.021863\n"
     ]
    }
   ],
   "source": [
    "# Create results DataFrame\n",
    "results_df = pd.DataFrame(results, columns=[\"Model\", \"RMSE\", \"R²\", \"Time (s)\"])\n",
    "print(results_df)"
   ]
  },
  {
   "cell_type": "markdown",
   "metadata": {},
   "source": [
    "### Linear models struggle with new data: Linear models (OLS and LASSO) showed a significant drop in performance on the later dataset compared to the earlier test set. This suggests that the later dataset may contain different patterns or non-linear complexities that the linear models are not able to generalize well to.\n",
    "### Non-linear models: Random Forest, Gradient Boosting and XGBoost performed better than the linear models, with XGBoost being the best performer. It is interesting to note that these models performed better than in the earlier test set in terms of R² values. This highlights the importance of using non-linear models when dealing with complex, real-world datasets where relationships between features and target variables may not be linear."
   ]
  },
  {
   "cell_type": "markdown",
   "metadata": {},
   "source": [
    "## Another city = Thessaloniki"
   ]
  },
  {
   "cell_type": "code",
   "execution_count": 319,
   "metadata": {},
   "outputs": [],
   "source": [
    "# Load data\n",
    "df_thessaloniki = pd.read_csv(\"../data/thessaloniki_q3.csv\")"
   ]
  },
  {
   "cell_type": "code",
   "execution_count": 320,
   "metadata": {},
   "outputs": [],
   "source": [
    "# Feature engineering\n",
    "df_thessaloniki = feature_engineering(df_thessaloniki)"
   ]
  },
  {
   "cell_type": "code",
   "execution_count": 321,
   "metadata": {},
   "outputs": [],
   "source": [
    "# Splitting the target variable from data for prediction\n",
    "X = df_thessaloniki.drop(columns=['price'])\n",
    "y = df_thessaloniki['price']"
   ]
  },
  {
   "cell_type": "code",
   "execution_count": 322,
   "metadata": {},
   "outputs": [],
   "source": [
    "# Impute missing values using imputer of train data\n",
    "X[numeric_cols] = num_imputer.transform(X[numeric_cols])\n",
    "\n",
    "X[categorical_cols] = cat_imputer.transform(X[categorical_cols])\n",
    "\n",
    "# Convert categorical variables to dummy variables\n",
    "X = pd.get_dummies(X, columns=categorical_cols, drop_first=True)"
   ]
  },
  {
   "cell_type": "code",
   "execution_count": 323,
   "metadata": {},
   "outputs": [
    {
     "data": {
      "text/plain": [
       "(4284, 48)"
      ]
     },
     "execution_count": 323,
     "metadata": {},
     "output_type": "execute_result"
    }
   ],
   "source": [
    "X.shape"
   ]
  },
  {
   "cell_type": "code",
   "execution_count": 324,
   "metadata": {},
   "outputs": [],
   "source": [
    "# Ensure both sets have the same features\n",
    "X = X.reindex(columns=X_train.columns, fill_value=0)"
   ]
  },
  {
   "cell_type": "code",
   "execution_count": 325,
   "metadata": {},
   "outputs": [],
   "source": [
    "# Train and evaluate models\n",
    "results = []\n",
    "for name, model in models.items():\n",
    "    start_time = time.time()\n",
    "    y_pred = model.predict(X)\n",
    "    elapsed_time = time.time() - start_time\n",
    "    rmse = mean_squared_error(y, y_pred, squared=False)\n",
    "    r2 = r2_score(y, y_pred)\n",
    "    results.append([name, rmse, r2, elapsed_time])"
   ]
  },
  {
   "cell_type": "code",
   "execution_count": 326,
   "metadata": {},
   "outputs": [
    {
     "name": "stdout",
     "output_type": "stream",
     "text": [
      "               Model        RMSE        R²  Time (s)\n",
      "0                OLS   67.587813 -0.150650  0.008926\n",
      "1              LASSO   68.776331 -0.191473  0.004431\n",
      "2      Random Forest  106.288157 -1.845614  0.085292\n",
      "3  Gradient Boosting   91.939803 -1.129185  0.004898\n",
      "4            XGBoost  112.750707 -2.202173  0.020331\n"
     ]
    }
   ],
   "source": [
    "# Create results DataFrame\n",
    "results_df = pd.DataFrame(results, columns=[\"Model\", \"RMSE\", \"R²\", \"Time (s)\"])\n",
    "print(results_df)"
   ]
  },
  {
   "cell_type": "markdown",
   "metadata": {},
   "source": [
    "### The R² values on the Thessaloniki dataset are all negative, with XGBoost showing the lowest R² of -2.2022. This suggests that none of the models can explain any variance in the price data for Thessaloniki, which could be a result of the dataset’s different characteristics or complexities. "
   ]
  },
  {
   "cell_type": "markdown",
   "metadata": {},
   "source": [
    "## Conclusion\n",
    "### The created models are not well-trained for valid generalization across different time and regions. While the models perform better on the initial test dataset, their performance significantly deteriorates when evaluated on new or \"live\" data, such as the later date and Thessaloniki city. This suggests that the models are not suited for external validation. "
   ]
  }
 ],
 "metadata": {
  "kernelspec": {
   "display_name": "ml",
   "language": "python",
   "name": "python3"
  },
  "language_info": {
   "codemirror_mode": {
    "name": "ipython",
    "version": 3
   },
   "file_extension": ".py",
   "mimetype": "text/x-python",
   "name": "python",
   "nbconvert_exporter": "python",
   "pygments_lexer": "ipython3",
   "version": "3.10.14"
  }
 },
 "nbformat": 4,
 "nbformat_minor": 2
}
